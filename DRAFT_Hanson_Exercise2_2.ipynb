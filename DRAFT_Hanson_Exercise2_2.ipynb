{
 "cells": [
  {
   "cell_type": "markdown",
   "id": "fb42cb75",
   "metadata": {},
   "source": [
    "### Title: Exercise 2.2\n",
    "#### Author: Celeste Grupman\n",
    "#### Date: 27 March 2022\n",
    "#### Modified By: Corrina Hanson\n",
    "#### Description: "
   ]
  },
  {
   "cell_type": "code",
   "execution_count": 1,
   "id": "e586d6ca",
   "metadata": {},
   "outputs": [],
   "source": [
    "import requests\n",
    "import json"
   ]
  },
  {
   "cell_type": "code",
   "execution_count": 19,
   "id": "fe92f5de",
   "metadata": {},
   "outputs": [
    {
     "name": "stdout",
     "output_type": "stream",
     "text": [
      "200\n",
      "{'activity': 'Configure two-factor authentication on your accounts', 'type': 'busywork', 'participants': 1, 'price': 0, 'link': 'https://en.wikipedia.org/wiki/Multi-factor_authentication', 'key': '1572120', 'accessibility': 0}\n",
      "<class 'requests.models.Response'>\n"
     ]
    }
   ],
   "source": [
    "response = requests.get(\"http://www.boredapi.com/api/activity/\")\n",
    "print(response.status_code)\n",
    "print(response.json())\n",
    "print(type(response))"
   ]
  },
  {
   "cell_type": "code",
   "execution_count": 20,
   "id": "bf2a17f3",
   "metadata": {},
   "outputs": [
    {
     "name": "stdout",
     "output_type": "stream",
     "text": [
      "{\n",
      "    \"accessibility\": 0,\n",
      "    \"activity\": \"Configure two-factor authentication on your accounts\",\n",
      "    \"key\": \"1572120\",\n",
      "    \"link\": \"https://en.wikipedia.org/wiki/Multi-factor_authentication\",\n",
      "    \"participants\": 1,\n",
      "    \"price\": 0,\n",
      "    \"type\": \"busywork\"\n",
      "}\n"
     ]
    }
   ],
   "source": [
    "def jprint(obj):\n",
    "    text = json.dumps(obj, sort_keys = True, indent = 4)\n",
    "    print(text)\n",
    "    \n",
    "jprint(response.json())"
   ]
  },
  {
   "cell_type": "code",
   "execution_count": 22,
   "id": "21c2d3a1",
   "metadata": {},
   "outputs": [
    {
     "name": "stdout",
     "output_type": "stream",
     "text": [
      "{\n",
      "    \"accessibility\": 0,\n",
      "    \"activity\": \"Configure two-factor authentication on your accounts\",\n",
      "    \"key\": \"1572120\",\n",
      "    \"link\": \"https://en.wikipedia.org/wiki/Multi-factor_authentication\",\n",
      "    \"participants\": 1,\n",
      "    \"price\": 0,\n",
      "    \"type\": \"busywork\"\n",
      "}\n"
     ]
    }
   ],
   "source": [
    "response = requests.get('http://www.boredapi.com/api/activity?key=1572120')\n",
    "jprint(response.json())"
   ]
  }
 ],
 "metadata": {
  "kernelspec": {
   "display_name": "Python 3 (ipykernel)",
   "language": "python",
   "name": "python3"
  },
  "language_info": {
   "codemirror_mode": {
    "name": "ipython",
    "version": 3
   },
   "file_extension": ".py",
   "mimetype": "text/x-python",
   "name": "python",
   "nbconvert_exporter": "python",
   "pygments_lexer": "ipython3",
   "version": "3.9.3"
  }
 },
 "nbformat": 4,
 "nbformat_minor": 5
}
